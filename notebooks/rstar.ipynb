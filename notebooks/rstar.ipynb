{
 "cells": [
  {
   "cell_type": "markdown",
   "metadata": {},
   "source": [
    "### **DEPENDENCIES**"
   ]
  },
  {
   "cell_type": "code",
   "execution_count": 2,
   "metadata": {},
   "outputs": [],
   "source": [
    "%load_ext autoreload"
   ]
  },
  {
   "cell_type": "code",
   "execution_count": 112,
   "metadata": {},
   "outputs": [],
   "source": [
    "import sys\n",
    "sys.path.append(\"..\")\n",
    "%autoreload 2\n",
    "import team_ninety_one as tno\n",
    "import guidance\n",
    "from guidance import system, user, assistant, gen, models"
   ]
  },
  {
   "cell_type": "code",
   "execution_count": 4,
   "metadata": {},
   "outputs": [],
   "source": [
    "openai_settings = tno.settings.OpenAISettings()"
   ]
  },
  {
   "cell_type": "markdown",
   "metadata": {},
   "source": [
    "Top LM"
   ]
  },
  {
   "cell_type": "code",
   "execution_count": 114,
   "metadata": {},
   "outputs": [],
   "source": [
    "lm = models.OpenAI(model=\"gpt-4o-mini\", api_key=openai_settings.api_key)"
   ]
  },
  {
   "cell_type": "markdown",
   "metadata": {},
   "source": [
    "### **RSTAR-MCTS**"
   ]
  },
  {
   "cell_type": "code",
   "execution_count": 111,
   "metadata": {},
   "outputs": [],
   "source": [
    "r_ques_1 = \"\"\"\n",
    "**Question:**  \n",
    "You are a lawyer working on a case where a client claims they were unfairly \n",
    "denied a promotion. The company's policy states that employees must meet three \n",
    "criteria for promotion:  \n",
    "1. At least five years of work experience in the company.  \n",
    "2. At least two successful performance evaluations in the last three years.  \n",
    "3. No disciplinary actions in the past two years.  \n",
    "\n",
    "The client's work record shows:  \n",
    "- They have worked at the company for six years.  \n",
    "- They had a disciplinary action two and a half years ago.  \n",
    "- They received one successful performance evaluation two years ago and another \n",
    "three years ago.  \n",
    "\n",
    "The company argues that the client's evaluation from three years ago does not \n",
    "meet the policy because it predates the \"last three years\" window. However, the \n",
    "client's evaluation two years ago was exemplary. The company's policy does not \n",
    "clarify how to handle such edge cases, and they typically use a \"best judgment\" \n",
    "clause for ambiguities.  \n",
    "\n",
    "The client wants to challenge the decision, citing precedent from another \n",
    "employee who received a promotion despite only one evaluation within the \n",
    "three-year window, based on their \"exemplary performance.\"  \n",
    "\n",
    "**Task:**  \n",
    "Write a concise legal argument for why the client meets the promotion criteria. \n",
    "Consider the policy, the precedent, and the client's situation.  \n",
    "\"\"\"\n",
    "\n",
    "r_ques_2 = \"\"\"\"\n",
    "Question:\n",
    "Your client was denied a promotion due to not meeting the requirement of two \n",
    "performance evaluations within the last three years. The company acknowledges \n",
    "the client has one exemplary evaluation from two years ago. A similar employee \n",
    "was promoted previously with only one evaluation based on \"exemplary performance\n",
    ".\"\n",
    "\n",
    "Task:\n",
    "Write an argument explaining why the client should be promoted based on their \n",
    "exemplary evaluation and the precedent set by the company.\n",
    "\"\"\""
   ]
  },
  {
   "cell_type": "code",
   "execution_count": 115,
   "metadata": {},
   "outputs": [
    {
     "data": {
      "text/html": [
       "<pre style='margin: 0px; padding: 0px; vertical-align: middle; padding-left: 8px; margin-left: -8px; border-radius: 0px; border-left: 1px solid rgba(127, 127, 127, 0.2); white-space: pre-wrap; font-family: ColfaxAI, Arial; font-size: 15px; line-height: 23px;'><div style='display: flex; border-bottom: 1px solid rgba(127, 127, 127, 0.2);  justify-content: center; align-items: center;'><div style='flex: 0 0 80px; opacity: 0.5;'>user</div><div style='flex-grow: 1; padding: 5px; padding-top: 10px; padding-bottom: 10px; margin-top: 0px; white-space: pre-wrap; margin-bottom: 0px;'>            ROOT: &quot;\n",
       "Question:\n",
       "Your client was denied a promotion due to not meeting the requirement of two \n",
       "performance evaluations within the last three years. The company acknowledges \n",
       "the client has one exemplary evaluation from two years ago. A similar employee \n",
       "was promoted previously with only one evaluation based on &quot;exemplary performance\n",
       ".&quot;\n",
       "\n",
       "Task:\n",
       "Write an argument explaining why the client should be promoted based on their \n",
       "exemplary evaluation and the precedent set by the company.\n",
       "\n",
       "            </div></div><div style='display: flex; border-bottom: 1px solid rgba(127, 127, 127, 0.2);  justify-content: center; align-items: center;'><div style='flex: 0 0 80px; opacity: 0.5;'>assistant</div><div style='flex-grow: 1; padding: 5px; padding-top: 10px; padding-bottom: 10px; margin-top: 0px; white-space: pre-wrap; margin-bottom: 0px;'>**Resolution:**\n",
       "\n",
       "The client should be promoted based on their exemplary evaluation and the precedent set by the company for the following reasons:\n",
       "\n",
       "1. **Recognition of Excellence**: The client has demonstrated exceptional performance, as evidenced by their exemplary evaluation. This evaluation serves as a strong indicator of their capability to fulfill the responsibilities associated with the promotion.\n",
       "\n",
       "2. **Established Precedent**: The company has previously promoted an employee with only one exemplary evaluation. This sets a clear standard that outstanding performance can warrant promotion, regardless of the number of evaluations. To deny the client a promotion under similar circumstances would be inconsistent and could undermine the company&#x27;s credibility.\n",
       "\n",
       "3. **Fairness and Consistency**: It is crucial for the company to apply its promotion criteria consistently. Promoting the client would align with the company&#x27;s past decisions and demonstrate a commitment to fairness in the evaluation process.\n",
       "\n",
       "4. **Future Potential**: The client&#x27;s exemplary evaluation not only reflects past achievements but also indicates their potential for future contributions. Promoting them could further motivate the client and inspire their colleagues to strive for excellence.\n",
       "\n",
       "5. **Reinforcing a Performance-Driven Culture**: By promoting the client, the company would reinforce a culture that values and rewards high performance. This can enhance overall employee morale and encourage a commitment to excellence across the organization.\n",
       "\n",
       "In summary, the client&#x27;s exemplary evaluation, the precedent set by the company, and the need for consistent and fair decision-making strongly support the argument for their promotion. The company should recognize and reward exceptional performance to maintain its values and standards.</div></div></pre>"
      ],
      "text/plain": [
       "<IPython.core.display.HTML object>"
      ]
     },
     "metadata": {},
     "output_type": "display_data"
    }
   ],
   "source": [
    "lm += tno.programs.rstar_g(r_ques_2)"
   ]
  }
 ],
 "metadata": {
  "kernelspec": {
   "display_name": "venv",
   "language": "python",
   "name": "python3"
  },
  "language_info": {
   "codemirror_mode": {
    "name": "ipython",
    "version": 3
   },
   "file_extension": ".py",
   "mimetype": "text/x-python",
   "name": "python",
   "nbconvert_exporter": "python",
   "pygments_lexer": "ipython3",
   "version": "3.12.7"
  }
 },
 "nbformat": 4,
 "nbformat_minor": 2
}
