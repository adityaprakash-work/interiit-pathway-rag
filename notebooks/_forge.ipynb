{
 "cells": [
  {
   "cell_type": "markdown",
   "metadata": {},
   "source": [
    "### **DEPENDENCIES**"
   ]
  },
  {
   "cell_type": "code",
   "execution_count": 1,
   "metadata": {},
   "outputs": [],
   "source": [
    "%load_ext autoreload"
   ]
  },
  {
   "cell_type": "code",
   "execution_count": 2,
   "metadata": {},
   "outputs": [],
   "source": [
    "import sys\n",
    "import time\n",
    "sys.path.append(\"..\")\n",
    "%autoreload 2\n",
    "import team_ninety_one as tno\n",
    "\n",
    "from guidance import models"
   ]
  },
  {
   "cell_type": "markdown",
   "metadata": {},
   "source": [
    "### **ENV & CONFIG**"
   ]
  },
  {
   "cell_type": "code",
   "execution_count": 3,
   "metadata": {},
   "outputs": [],
   "source": [
    "openai_settings = tno.settings.OpenAISettings()"
   ]
  },
  {
   "cell_type": "markdown",
   "metadata": {},
   "source": [
    "### **MODEL**"
   ]
  },
  {
   "cell_type": "code",
   "execution_count": 4,
   "metadata": {},
   "outputs": [],
   "source": [
    "top_lm = models.OpenAI(\n",
    "    model=\"gpt-4o-mini\",\n",
    "    # model=\"gpt-3.5-turbo-instruct\",\n",
    "    api_key=openai_settings.api_key,\n",
    "    echo=True,\n",
    ")"
   ]
  },
  {
   "cell_type": "markdown",
   "metadata": {},
   "source": [
    "### **HyDE**"
   ]
  },
  {
   "cell_type": "code",
   "execution_count": 9,
   "metadata": {},
   "outputs": [
    {
     "data": {
      "text/html": [
       "<pre style='margin: 0px; padding: 0px; vertical-align: middle; padding-left: 8px; margin-left: -8px; border-radius: 0px; border-left: 1px solid rgba(127, 127, 127, 0.2); white-space: pre-wrap; font-family: ColfaxAI, Arial; font-size: 15px; line-height: 23px;'><div style='display: inline-block; cursor: pointer; opacity: 0.5; width: 2px; margin-left: -2px;' onClick='this.nextSibling.style.display = \"inline\"; this.style.display = \"none\"'>&caron;</div><div style='display: none;'><div style='display: flex; border-bottom: 1px solid rgba(127, 127, 127, 0.2);  justify-content: center; align-items: center;'><div style='flex: 0 0 80px; opacity: 0.5;'>system</div><div style='flex-grow: 1; padding: 5px; padding-top: 10px; padding-bottom: 10px; margin-top: 0px; white-space: pre-wrap; margin-bottom: 0px;'>\n",
       "You are a skilled prompt engineer for advanced RAG systems. Your task is to \n",
       "answer the query to the best of your knowledge. The answer will be used as a \n",
       "hypothetical document for retrieval.\n",
       "\n",
       "Follow these steps:\n",
       "1. Understand the user&#x27;s query by identifying key concepts and their \n",
       "relationships. Consider what a RAG system might do: What kind of documents or \n",
       "information would a RAG system possibly retrieve? What topics, keywords, or \n",
       "entities would be relevant?\n",
       "2. Craft a concise proxy answer (150 words or fewer) that reflects \n",
       "relevant information.\n",
       "\n",
       "Example: If asked, &quot;What are the benefits of renewable energy sources?&quot;You might \n",
       "respond with, &quot;Renewable energy sources offer benefits such as reduced carbon \n",
       "emissions, energy independence, and sustainability.&quot;\n",
       "</div></div></div><div style='display: flex; border-bottom: 1px solid rgba(127, 127, 127, 0.2);  justify-content: center; align-items: center;'><div style='flex: 0 0 80px; opacity: 0.5;'>user</div><div style='flex-grow: 1; padding: 5px; padding-top: 10px; padding-bottom: 10px; margin-top: 0px; white-space: pre-wrap; margin-bottom: 0px;'>\n",
       "\n",
       "Query: What color shirt did I wear 2 days ago?\n",
       "<div style='display: inline-block; cursor: pointer; opacity: 0.5; width: 2px; margin-left: -2px;' onClick='this.nextSibling.style.display = \"inline\"; this.style.display = \"none\"'>&caron;</div><div style='display: none;'>\n",
       "Are you confident in generating a proxy answer without hallucinating? If you are \n",
       "unsure about the context, please say so. Respond in one word, &#x27;YES&#x27; or &#x27;NO&#x27;.\n",
       "</div></div></div><div style='display: inline-block; cursor: pointer; opacity: 0.5; width: 2px; margin-left: -2px;' onClick='this.nextSibling.style.display = \"inline\"; this.style.display = \"none\"'>&caron;</div><div style='display: none;'><div style='display: flex; border-bottom: 1px solid rgba(127, 127, 127, 0.2);  justify-content: center; align-items: center;'><div style='flex: 0 0 80px; opacity: 0.5;'>assistant</div><div style='flex-grow: 1; padding: 5px; padding-top: 10px; padding-bottom: 10px; margin-top: 0px; white-space: pre-wrap; margin-bottom: 0px;'><span style='background-color: rgba(0.0, 165.0, 0, 0.15); border-radius: 3px;' title='1.0'>NO</span></div></div></div></pre>"
      ],
      "text/plain": [
       "<IPython.core.display.HTML object>"
      ]
     },
     "metadata": {},
     "output_type": "display_data"
    },
    {
     "name": "stdout",
     "output_type": "stream",
     "text": [
      "NO\n",
      "Time taken: 0.026063203811645508\n",
      "NO\n",
      "Time taken: 1.3794279098510742\n"
     ]
    }
   ],
   "source": [
    "query = \"What color shirt did I wear 2 days ago?\"\n",
    "start = time.time()\n",
    "lm_hyde = top_lm + tno.programs.hyde_g(query, max_tokens=200)\n",
    "print(lm_hyde[\"hyde\"])\n",
    "print(f\"Time taken: {time.time() - start}\")\n",
    "start = time.time()\n",
    "hyde_answer = tno.programs.hyde_openai_chat(query, max_tokens=200)\n",
    "print(hyde_answer)\n",
    "print(f\"Time taken: {time.time() - start}\")"
   ]
  }
 ],
 "metadata": {
  "kernelspec": {
   "display_name": "venv",
   "language": "python",
   "name": "python3"
  },
  "language_info": {
   "codemirror_mode": {
    "name": "ipython",
    "version": 3
   },
   "file_extension": ".py",
   "mimetype": "text/x-python",
   "name": "python",
   "nbconvert_exporter": "python",
   "pygments_lexer": "ipython3",
   "version": "3.12.7"
  }
 },
 "nbformat": 4,
 "nbformat_minor": 2
}
